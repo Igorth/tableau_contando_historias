{
 "cells": [
  {
   "cell_type": "markdown",
   "metadata": {},
   "source": [
    "# Contando dados com Tableau"
   ]
  },
  {
   "cell_type": "markdown",
   "metadata": {},
   "source": [
    "## Links da história"
   ]
  },
  {
   "cell_type": "markdown",
   "metadata": {},
   "source": [
    "<a href=\"https://public.tableau.com/profile/igor8808#!/vizhome/Livro1_529/Histria1\">Versão 1</a>\n",
    "<br>\n",
    "<a href=\"https://public.tableau.com/profile/igor8808#!/vizhome/Livro1-Verso2_0/Histria1\">Versão 2</a>\n",
    "<br>\n",
    "<a href=\"https://public.tableau.com/profile/igor8808#!/vizhome/Livro1-Verso3_0/Quandoeoqueocasionouosacidentesareosnoperodode10anosnoBrasil\">Versão 3</a>\n",
    "<br>\n",
    "<a href=\"https://public.tableau.com/profile/igor8808#!/vizhome/Livro1-Verso4_0/Quandoeoqueocasionouosacidentesareosnoperodode10anosnoBrasil\">Versão final</a>"
   ]
  },
  {
   "cell_type": "markdown",
   "metadata": {},
   "source": [
    "## Resumo\n",
    "\n",
    "Em não mais de quatro frases, faça uma breve apresentação de sua visualização de dados e adicione qualquer contexto que possa ajudar os leitores a entendê-la"
   ]
  },
  {
   "cell_type": "markdown",
   "metadata": {},
   "source": [
    "A visualização mostra a ocorrência de acidentes aéreos no Brasil no período do ano de 2006 a 2015, vamos poder observar a quantidade de acidentes que acontece em todo o país e não temos conhecimento."
   ]
  },
  {
   "cell_type": "markdown",
   "metadata": {},
   "source": [
    "## Design\n",
    "\n",
    "Explique as escolhas de design que você fez, incluindo mudanças na visualização após a coleta de feedback"
   ]
  },
  {
   "cell_type": "markdown",
   "metadata": {},
   "source": [
    "#### Gráfico 1\n",
    "\n",
    "Fiz a escolha do gráfico de barras para poder visualizar os estados com maior índice de acidente aéreo.\n",
    "\n",
    "<b>Mudanças</b>: Inseri um filtro por estado da ocorrência e adicionei na linha a classificação do tipo de acidente.\n",
    "\n",
    "#### Gráfico 2\n",
    "\n",
    "Utilizei o gráfico de barras na horizontal para mostrar a classificação dos acidentes, coloquei uma cor nas barras para poder distinguir.\n",
    "\n",
    "<b>Mudanças</b>: Não houve nenhuma alteração.\n",
    "\n",
    "#### Gráfico 3\n",
    "\n",
    "No gráfico utilizei novamente as barras horizontais e um filtro para a pessoa ficar confortável na hora de poder ver quais são os tipos de acidentes que ocorrem.\n",
    "\n",
    "<b>Mudanças</b>: Transformei o gráfico de barras em um gráfico de linhas, inseri um filtro de data por mês, coloquei cada tipo de acidente em uma cor e troquei o filtro do Tipo de acidente de listar por uma checklist.\n",
    "\n",
    "#### Gráfico 4\n",
    "Mostro um mapa do Brasil com a quantidade de acidentes em cada estado, coloquei uma cor para cada estado e o número de acidentes logo abaixo.\n",
    "\n",
    "<b>Mudanças</b>: Coloquei uma marca de Tamanho para resaltar a quantidade de acidente por estado.\n",
    "\n",
    "#### Gráfico 5\n",
    "Um mapa de calor para poder evidenciar um pouco mais os estados que ocorreram acidentes aéreos\n",
    "\n",
    "<b>Mudanças</b>: Não houve nenhuma alteração.\n",
    "\n",
    "\n",
    "#### Gráfico 6\n",
    "Um gráfico de barras para mostrar as cidades com maior número de registro, listei apenas as 20 primeiras e inseri o filtro por ano\n",
    "\n",
    "<b>Mudanças</b>: Não houve nenhuma alteração.\n",
    "\n",
    "#### Gráfico 7\n",
    "Um gráfico de linha para identificar qual foi o mês que mais ocorreu acidente\n",
    "\n",
    "<b>Mudanças</b>: O mês por extenso na linha estava bem estranho, o que fiz foi simplificar o nome para deixar melhor o entendimento do mês que ocorreu o acidente. Inseri no gráfico também a classificação do acidente para ter uma comparação.\n"
   ]
  },
  {
   "cell_type": "markdown",
   "metadata": {},
   "source": [
    "## Comentários\n",
    "\n",
    "Inclua todos os comentários que outras pessoas fizeram sobre sua visualização, desde o primeiro esboço até a visualização final"
   ]
  },
  {
   "cell_type": "markdown",
   "metadata": {},
   "source": [
    "- No gráfico  “Mes que teve maior causa dos acidentes” poderia melhorar as tooltips e descrições, eu entendi o que é o gráfico, mas os nomes estão estranhos\n",
    "\n",
    "- No gráfico “mapa dos estados” você poderia configurar o tamanho das bolinhas de acordo com o número de ocorrências\n",
    "\n",
    "- Para o gráfico “quais tipos de acidentes mais ocorreram” tenho algumas sugestões:\n",
    "    - Poderia ser gráfico de linha diferenciando os tipos de acidente por cores\n",
    "    - Usando gráfico de linha, você ganha mais uma dimensão que poderia ser usada para mostrar a data dos acidentes\n",
    "    - O filtro poderia ser checkbox para comparar tipos de acidentes\n",
    "\n",
    "- Número de vítimas pode ser um dado legal também\n",
    "\n",
    "No mais, está bem legal, deu pra entender bem\n",
    "\n",
    "<b>Obs:</b> No dataset não tem o número de vítimas para poder analisar."
   ]
  },
  {
   "cell_type": "markdown",
   "metadata": {},
   "source": [
    "## Recursos\n",
    "\n",
    "Liste todas as fontes consultadas para criar a visualização"
   ]
  },
  {
   "cell_type": "markdown",
   "metadata": {},
   "source": [
    "- <a href=\"http://dados.gov.br/dataset/ocorrencias-aeronauticas-da-aviacao-civil-brasileira\">OpenData AIG Brazil</a>\n",
    "- <a href=\"https://paulovasconcellos.com.br/\">Paulo Vasconcellos</a>\n",
    "- <a href=\"https://public.tableau.com/en-us/s/blog\"> Tableau Public Blog"
   ]
  },
  {
   "cell_type": "markdown",
   "metadata": {
    "collapsed": true
   },
   "source": [
    "## Conclusão\n",
    "\n",
    "No final da visualização pude perceber que São Paulo tem o maior número de acidentes aéreos, por conta de ter uma quantidade maior de números de aeroportos na cidade e ter uma quantidade grande de números de voos saindo e chegando na cidade. E que nos meses de Janeiro e Julho que são meses de férias houve as maiores ocorrências de acidente."
   ]
  },
  {
   "cell_type": "markdown",
   "metadata": {
    "collapsed": true
   },
   "source": [
    "## Revisão do projeto - Versão 1"
   ]
  },
  {
   "cell_type": "markdown",
   "metadata": {},
   "source": [
    "1.A visualização centraliza em uma descoberta especifica clara."
   ]
  },
  {
   "cell_type": "markdown",
   "metadata": {},
   "source": [
    "<b>Revisor Udacity:</b>As visualizações da história devem ser do tipo explanatórias, quando queremos mostrar um achado específico que encontramos em nossos dados. Não fica claro em sua análise qual achado que você quer mostrar e os gráficos apresentados parecem mais ser uma visualização do tipo exploratório, quando exploramos vários aspectos dos dados.\n",
    "\n",
    "Perceba que temos que criar uma narrativa com foco em uma descoberta específica e clara. Escolha um achado da análise e utilize diferentes gráficos para detalhar o achado específico que quer mostrar a partir de diversos ângulos. Evite repetir gráficos nos painéis.\n",
    "\n",
    "Os títulos de histórias aparecem sempre na exibição e são uma forma prática de centralizar o objetivo da história. Por favor, altere o título da história para que indique qual descoberta você quer mostrar.\n",
    "\n",
    "Utilize as legendas dos painéis do Tableau para guiar o leitor pela história destacando pontos de interesse e tendências respaldados pelos gráficos apresentados. Utilize texto explicativos dentro dos painéis descrever seus achados.\n",
    "\n",
    "Veja aqui um exemplo do Tableau."
   ]
  },
  {
   "cell_type": "markdown",
   "metadata": {},
   "source": [
    "<b>Correção:</b>Obrigado pelo exemplo ajudou bastante, refiz toda a ordem da apresentação criando e respondendo as perguntas dentro da história e acredito que tenha conseguido fazer a explicação dos dados que utilizei"
   ]
  },
  {
   "cell_type": "markdown",
   "metadata": {},
   "source": [
    "2.A descoberta é claramente comunicada. Escolhas de design favorecem a comunicação entre o leitor e a visualização"
   ]
  },
  {
   "cell_type": "markdown",
   "metadata": {},
   "source": [
    "<b>Revisor Udacity</b>: A escolha do tipo de gráfico correto é muito importante para que a descoberta seja claramente comunicada. Por exemplo, no terceiro Painel um gráfico de barras é mais indicado que um gráfico de linha. Gráficos de linhas são mais indicados para variáveis sequenciais mas a variável tipo de acidente é categórica."
   ]
  },
  {
   "cell_type": "markdown",
   "metadata": {},
   "source": [
    "<b>Correção:</b> Concordo plenamente que o gráfico de barras é bem melhor para mostrar o resultado, tinha feito ele de linhas só por causa do feedback, mas já voltei com o de barras e inseri uma cor para a pessoa poder diferenciar"
   ]
  },
  {
   "cell_type": "markdown",
   "metadata": {},
   "source": [
    "<b>Revisor Udacity:</b>Os dados devem ser limpos antes da visualização ser construída. Alguns valores estranhos estão aparecendo nos gráficos e podem confundir o leitor. Qual o significado dos valores \"*\" e \"EX\" no gráfico abaixo?"
   ]
  },
  {
   "cell_type": "markdown",
   "metadata": {},
   "source": [
    "<b>Correção:</b>O valor que está como \"***\" representa locais que não tiveram a localização identificada, e o \"EX\" são registros fora do território brasileiro com aeronaves. Vou colocar uma legenda nesse gráfico na hora de criar a história."
   ]
  },
  {
   "cell_type": "markdown",
   "metadata": {},
   "source": [
    "<b>Revisor Udacity:</b>Utilize rótulos claros nos gráficos. Evite abreviações e use descrições mais claras. Veja por exemplo no gráfico abaixo alguns pontos que precisam ser corrigidos:"
   ]
  },
  {
   "cell_type": "markdown",
   "metadata": {},
   "source": [
    "<b>Correção:</b>Utilizei melhores os rótulos no gráfico, retirei a abreviação do campo de mês, renomei os campos dos eixos X e Y para melhor entendimento"
   ]
  },
  {
   "cell_type": "markdown",
   "metadata": {},
   "source": [
    "3.O resumo do gráfico do leitor seria de perto o resumo escrito, ou um leitor identificaria pelo menos um ponto principal ou relação que o gráfico tenta transmitir."
   ]
  },
  {
   "cell_type": "markdown",
   "metadata": {},
   "source": [
    "<b>Revisor Udacity:</b> Porém nos gráficos não fica claro que São Paulo tem uma maior quantidade de acidentes aéreos por ter um maior número de aeroportos e maior número de voos. Todos os gráficos mostram o número de acidentes e incidentes, então não temos como perceber se São Paulo possui o maior número de acidentes porque tem mais voos."
   ]
  },
  {
   "cell_type": "markdown",
   "metadata": {},
   "source": [
    "<b>Correção:</b>\n",
    "Alterei a ordem de apresentação da história para conseguir explicar melhor, o total de acidente e incidente grave no periodo de 2006 a 2015 foi mais de 2027 ocorrências. As três causas principais de acidentes foram: falha do motor em vôo, seguida por perda de controle no solo e perda de controle em vôo, que é bastante preocupante por ter duas causas que acontecem quando você está voando e é difícil de controlar. Nos anos de 2010 a 2012 teve uma alta considerável no número de acidentes, tanto que em 2012 foram 207 acidentes aéreos e no de 2014 teve 74 incidentes graves registrados. O estado de São Paulo foi o que mais teve ocorrência de acidentes com 434 no total sendo 107 acidentes graves."
   ]
  },
  {
   "cell_type": "markdown",
   "metadata": {},
   "source": [
    "4.As decisões iniciais de design, como tipo de gráfico, codificações visuais, layout, legendas ou hierarquia, estão incluídas no início da seção Design no writeup."
   ]
  },
  {
   "cell_type": "markdown",
   "metadata": {},
   "source": [
    "<b>Revisor Udacity:</b>Por favor, faça uma análise mais completa das cores utilizadas. Você deve comentar sobre o tipo de paleta de cores escolhido (sequencial, divergente ou qualitativa) e justificar a escolha. A paleta de cores utilizada é coerente com o tipo de dado da variável, por quê?\n",
    "\n",
    "Veja mais sobre as paletas de cores nessa aula."
   ]
  },
  {
   "cell_type": "markdown",
   "metadata": {},
   "source": [
    "<b>Correção:</b>Utilizei a paleta sequencial nos gráficos, pude perceber que ela dá um contraste muito grande na mudança das cores, dei prioriedade em utilizar a cor vermelha nos gráficos porque já que estou tratando de dados de acidente acredito que o vermelho consegue impactar mais e tem uma clareza para a pessoa que está visualizando que quando é algum acidente grave o vermelho é mais intenso."
   ]
  },
  {
   "cell_type": "markdown",
   "metadata": {},
   "source": [
    "## Revisão do projeto - Versão 2"
   ]
  },
  {
   "cell_type": "markdown",
   "metadata": {},
   "source": [
    "<b>Revisor Udacity:</b> \n",
    "Não encontrei as explicações para EX e \"\" na história. Perceba que como você está representando estados no gráfico abaixo e os valores EX e \"\" além de não representarem estados não são significativos para a análise, o recomendado é remover esses valores do dataset."
   ]
  },
  {
   "cell_type": "markdown",
   "metadata": {},
   "source": [
    "<b>Correção:</b> O valor que está como \"*\" representa locais que não tiveram a localização identificada, e o \"EX\" são registros fora do território brasileiro com aeronaves. Vou colocar uma legenda nesse gráfico na hora de criar a história. Retirei os campos de \"*\" e o \"EX\" para não causar confusão na hora de visualizar o gráfico."
   ]
  },
  {
   "cell_type": "markdown",
   "metadata": {},
   "source": [
    "<b>Revisor Udacity:</b> A variável \"Número de registro\" representa um valor sequencial (números maiores representam valores maiores), por isso devemos utilizar uma paleta de cores sequencial. No gráfico a seguir está sendo utilizada uma paleta qualitativa:"
   ]
  },
  {
   "cell_type": "markdown",
   "metadata": {},
   "source": [
    "<b>Correção:</b> Alterei a cor da paleta para sequencial, para melhorar a transição dos pontos no mapa."
   ]
  },
  {
   "cell_type": "markdown",
   "metadata": {},
   "source": [
    "<b>Revisor Udacity:</b> Perceba que devemos escolher o tipo de paleta de acordo com o tipo de variável que ela representa. Por exemplo, \"TIPO DE ACIDENTE\" é uma variável categórica, por isso devemos utilizar uma paleta qualitativa. Classificação também (Incidente ou acidente). Já a quantidade de acidentes/incidentes é uma variável quantitativa sequencial por isso a paleta deve ser do tipo sequencial.\n",
    "\n",
    "Por favor, descreva o tipo da paleta utilizada no relatório relacionando o tipo escolhido com o tipo de variável que ela representa.\n",
    "\n",
    "Veja mais sobre paleta de cores nesse link."
   ]
  },
  {
   "cell_type": "markdown",
   "metadata": {},
   "source": [
    "<b>Correção:</b> \n",
    "- \"TIPO DE ACIDENTE\" é uma variável categórica, por isso utilizei uma paleta qualitativa. \n",
    "- Classificação de Incidente ou acidente é uma variável categória e utilizei a paleta qualitativa;\n",
    "- Quantidade de acidentes/incidentes é uma variável quantitativa sequencial por isso a paleta deve ser do tipo sequencial;\n",
    "- \"Número de registro\" representa um valor sequencial (números maiores representam valores maiores), por isso devemos utilizar uma paleta de cores sequencial;\n",
    "- Mapa de calor foi utiliza uma paleta de cores sequencial, como os dados são continuos e positivos essa foi a escolha; \n",
    "- O gráfico que mostra a localidade optei por usar uma cor padrão, porque acho que não precise diferenciar o que está sendo mostrado no gráfico."
   ]
  }
 ],
 "metadata": {
  "anaconda-cloud": {},
  "kernelspec": {
   "display_name": "Python 3",
   "language": "python",
   "name": "python3"
  },
  "language_info": {
   "codemirror_mode": {
    "name": "ipython",
    "version": 3
   },
   "file_extension": ".py",
   "mimetype": "text/x-python",
   "name": "python",
   "nbconvert_exporter": "python",
   "pygments_lexer": "ipython3",
   "version": "3.5.2"
  }
 },
 "nbformat": 4,
 "nbformat_minor": 2
}
