{
 "cells": [
  {
   "cell_type": "markdown",
   "metadata": {},
   "source": [
    "# Contando dados com Tableau"
   ]
  },
  {
   "cell_type": "markdown",
   "metadata": {},
   "source": [
    "## Links da história"
   ]
  },
  {
   "cell_type": "markdown",
   "metadata": {},
   "source": [
    "<a href=\"https://public.tableau.com/profile/igor8808#!/vizhome/Livro1_529/Histria1\">Versão 1</a>\n",
    "<br>\n",
    "<a href=\"https://public.tableau.com/profile/igor8808#!/vizhome/Livro1-Verso2_0/Histria1\">Versão final</a>"
   ]
  },
  {
   "cell_type": "markdown",
   "metadata": {},
   "source": [
    "## Resumo\n",
    "\n",
    "Em não mais de quatro frases, faça uma breve apresentação de sua visualização de dados e adicione qualquer contexto que possa ajudar os leitores a entendê-la"
   ]
  },
  {
   "cell_type": "markdown",
   "metadata": {},
   "source": [
    "A visualização mostra a ocorrência de acidentes aéreos no Brasil no período do ano de 2006 a 2015, vamos poder observar a quantidade de acidentes que acontece em todo o país e não temos conhecimento."
   ]
  },
  {
   "cell_type": "markdown",
   "metadata": {},
   "source": [
    "## Design\n",
    "\n",
    "Explique as escolhas de design que você fez, incluindo mudanças na visualização após a coleta de feedback"
   ]
  },
  {
   "cell_type": "markdown",
   "metadata": {},
   "source": [
    "#### Gráfico 1\n",
    "\n",
    "Fiz a escolha do gráfico de barras para poder visualizar os estados com maior índice de acidente aéreo.\n",
    "\n",
    "<b>Mudanças</b>: Inseri um filtro por estado da ocorrência e adicionei na linha a classificação do tipo de acidente.\n",
    "\n",
    "#### Gráfico 2\n",
    "\n",
    "Utilizei o gráfico de barras na horizontal para mostrar a classificação dos acidentes, coloquei uma cor nas barras para poder distinguir.\n",
    "\n",
    "<b>Mudanças</b>: Não houve nenhuma alteração.\n",
    "\n",
    "#### Gráfico 3\n",
    "\n",
    "No gráfico utilizei novamente as barras horizontais e um filtro para a pessoa ficar confortável na hora de poder ver quais são os tipos de acidentes que ocorrem.\n",
    "\n",
    "<b>Mudanças</b>: Transformei o gráfico de barras em um gráfico de linhas, inseri um filtro de data por mês, coloquei cada tipo de acidente em uma cor e troquei o filtro do Tipo de acidente de listar por uma checklist.\n",
    "\n",
    "#### Gráfico 4\n",
    "Mostro um mapa do Brasil com a quantidade de acidentes em cada estado, coloquei uma cor para cada estado e o número de acidentes logo abaixo.\n",
    "\n",
    "<b>Mudanças</b>: Coloquei uma marca de Tamanho para resaltar a quantidade de acidente por estado.\n",
    "\n",
    "#### Gráfico 5\n",
    "Um mapa de calor para poder evidenciar um pouco mais os estados que ocorreram acidentes aéreos\n",
    "\n",
    "<b>Mudanças</b>: Não houve nenhuma alteração.\n",
    "\n",
    "\n",
    "#### Gráfico 6\n",
    "Um gráfico de barras para mostrar as cidades com maior número de registro, listei apenas as 20 primeiras e inseri o filtro por ano\n",
    "\n",
    "<b>Mudanças</b>: Não houve nenhuma alteração.\n",
    "\n",
    "#### Gráfico 7\n",
    "Um gráfico de linha para identificar qual foi o mês que mais ocorreu acidente\n",
    "\n",
    "<b>Mudanças</b>: O mês por extenso na linha estava bem estranho, o que fiz foi simplificar o nome para deixar melhor o entendimento do mês que ocorreu o acidente. Inseri no gráfico também a classificação do acidente para ter uma comparação.\n"
   ]
  },
  {
   "cell_type": "markdown",
   "metadata": {},
   "source": [
    "## Comentários\n",
    "\n",
    "Inclua todos os comentários que outras pessoas fizeram sobre sua visualização, desde o primeiro esboço até a visualização final"
   ]
  },
  {
   "cell_type": "markdown",
   "metadata": {},
   "source": [
    "- No gráfico  “Mes que teve maior causa dos acidentes” poderia melhorar as tooltips e descrições, eu entendi o que é o gráfico, mas os nomes estão estranhos\n",
    "\n",
    "- No gráfico “mapa dos estados” você poderia configurar o tamanho das bolinhas de acordo com o número de ocorrências\n",
    "\n",
    "- Para o gráfico “quais tipos de acidentes mais ocorreram” tenho algumas sugestões:\n",
    "    - Poderia ser gráfico de linha diferenciando os tipos de acidente por cores\n",
    "    - Usando gráfico de linha, você ganha mais uma dimensão que poderia ser usada para mostrar a data dos acidentes\n",
    "    - O filtro poderia ser checkbox para comparar tipos de acidentes\n",
    "\n",
    "- Número de vítimas pode ser um dado legal também\n",
    "\n",
    "No mais, está bem legal, deu pra entender bem\n",
    "\n",
    "<b>Obs:</b> No dataset não tem o número de vítimas para poder analisar."
   ]
  },
  {
   "cell_type": "markdown",
   "metadata": {},
   "source": [
    "## Recursos\n",
    "\n",
    "Liste todas as fontes consultadas para criar a visualização"
   ]
  },
  {
   "cell_type": "markdown",
   "metadata": {},
   "source": [
    "- <a href=\"http://dados.gov.br/dataset/ocorrencias-aeronauticas-da-aviacao-civil-brasileira\">OpenData AIG Brazil</a>\n",
    "- <a href=\"https://paulovasconcellos.com.br/\">Paulo Vasconcellos</a>\n",
    "- <a href=\"https://public.tableau.com/en-us/s/blog\"> Tableau Public Blog"
   ]
  },
  {
   "cell_type": "markdown",
   "metadata": {
    "collapsed": true
   },
   "source": [
    "## Conclusão\n",
    "\n",
    "No final da visualização pude perceber que São Paulo tem o maior número de acidentes aéreos, por conta de ter uma quantidade maior de números de aeroportos na cidade e ter uma quantidade grande de números de voos saindo e chegando na cidade. E que nos meses de Janeiro e Julho que são meses de férias houve as maiores ocorrências de acidente."
   ]
  },
  {
   "cell_type": "code",
   "execution_count": null,
   "metadata": {
    "collapsed": true
   },
   "outputs": [],
   "source": []
  }
 ],
 "metadata": {
  "anaconda-cloud": {},
  "kernelspec": {
   "display_name": "Python [default]",
   "language": "python",
   "name": "python2"
  },
  "language_info": {
   "codemirror_mode": {
    "name": "ipython",
    "version": 2
   },
   "file_extension": ".py",
   "mimetype": "text/x-python",
   "name": "python",
   "nbconvert_exporter": "python",
   "pygments_lexer": "ipython2",
   "version": "2.7.13"
  }
 },
 "nbformat": 4,
 "nbformat_minor": 2
}
