{
 "cells": [
  {
   "cell_type": "code",
   "execution_count": 1,
   "metadata": {
    "collapsed": true
   },
   "outputs": [],
   "source": [
    "%matplotlib inline\n",
    "import pandas as pd #Para criação de DataFrames\n",
    "import matplotlib.pyplot as plt #Para plotagem\n",
    "import random"
   ]
  },
  {
   "cell_type": "code",
   "execution_count": 2,
   "metadata": {
    "collapsed": true
   },
   "outputs": [],
   "source": [
    "df = pd.read_csv('ocorrencia.csv')"
   ]
  },
  {
   "cell_type": "code",
   "execution_count": 3,
   "metadata": {
    "collapsed": false
   },
   "outputs": [
    {
     "data": {
      "text/html": [
       "<div>\n",
       "<table border=\"1\" class=\"dataframe\">\n",
       "  <thead>\n",
       "    <tr style=\"text-align: right;\">\n",
       "      <th></th>\n",
       "      <th>codigo_ocorrencia</th>\n",
       "      <th>classificacao</th>\n",
       "      <th>tipo</th>\n",
       "      <th>localidade</th>\n",
       "      <th>uf</th>\n",
       "      <th>pais</th>\n",
       "      <th>aerodromo</th>\n",
       "      <th>dia_ocorrencia</th>\n",
       "      <th>horario</th>\n",
       "      <th>sera_investigada</th>\n",
       "      <th>comando_investigador</th>\n",
       "      <th>status_investigacao</th>\n",
       "      <th>numero_relatorio</th>\n",
       "      <th>relatorio_publicado</th>\n",
       "      <th>dia_publicacao</th>\n",
       "      <th>quantidade_recomendacoes</th>\n",
       "      <th>aeronaves_envolvidas</th>\n",
       "      <th>saida_pista</th>\n",
       "      <th>dia_extracao</th>\n",
       "    </tr>\n",
       "  </thead>\n",
       "  <tbody>\n",
       "    <tr>\n",
       "      <th>0</th>\n",
       "      <td>47965</td>\n",
       "      <td>ACIDENTE</td>\n",
       "      <td>FALHA DO MOTOR EM VOO</td>\n",
       "      <td>ARIQUEMES</td>\n",
       "      <td>RO</td>\n",
       "      <td>BRASIL</td>\n",
       "      <td>SJOG</td>\n",
       "      <td>2013-05-05</td>\n",
       "      <td>11:00:00</td>\n",
       "      <td>***</td>\n",
       "      <td>SERIPA-7</td>\n",
       "      <td>NaN</td>\n",
       "      <td>NaN</td>\n",
       "      <td>NaN</td>\n",
       "      <td>NaN</td>\n",
       "      <td>0</td>\n",
       "      <td>1</td>\n",
       "      <td>NaN</td>\n",
       "      <td>2016-07-30</td>\n",
       "    </tr>\n",
       "    <tr>\n",
       "      <th>1</th>\n",
       "      <td>50313</td>\n",
       "      <td>INCIDENTE GRAVE</td>\n",
       "      <td>POUSO SEM TREM</td>\n",
       "      <td>CACOAL</td>\n",
       "      <td>RO</td>\n",
       "      <td>BRASIL</td>\n",
       "      <td>SSKW</td>\n",
       "      <td>2013-11-25</td>\n",
       "      <td>12:32:00</td>\n",
       "      <td>SIM</td>\n",
       "      <td>SERIPA-7</td>\n",
       "      <td>FINALIZADA</td>\n",
       "      <td>IG-209/CENIPA/2013</td>\n",
       "      <td>1.0</td>\n",
       "      <td>2014-04-07</td>\n",
       "      <td>0</td>\n",
       "      <td>1</td>\n",
       "      <td>NaN</td>\n",
       "      <td>2016-07-30</td>\n",
       "    </tr>\n",
       "    <tr>\n",
       "      <th>2</th>\n",
       "      <td>34078</td>\n",
       "      <td>ACIDENTE</td>\n",
       "      <td>PERDA DE CONTROLE NO SOLO</td>\n",
       "      <td>CEREJEIRAS</td>\n",
       "      <td>RO</td>\n",
       "      <td>BRASIL</td>\n",
       "      <td>****</td>\n",
       "      <td>2008-08-07</td>\n",
       "      <td>15:10:00</td>\n",
       "      <td>SIM</td>\n",
       "      <td>SERIPA-7</td>\n",
       "      <td>FINALIZADA</td>\n",
       "      <td>A - 517/CENIPA/2016</td>\n",
       "      <td>1.0</td>\n",
       "      <td>2016-07-07</td>\n",
       "      <td>0</td>\n",
       "      <td>1</td>\n",
       "      <td>1.0</td>\n",
       "      <td>2016-07-30</td>\n",
       "    </tr>\n",
       "    <tr>\n",
       "      <th>3</th>\n",
       "      <td>44988</td>\n",
       "      <td>ACIDENTE</td>\n",
       "      <td>POUSO LONGO</td>\n",
       "      <td>AMAJARI</td>\n",
       "      <td>RR</td>\n",
       "      <td>BRASIL</td>\n",
       "      <td>****</td>\n",
       "      <td>2011-08-11</td>\n",
       "      <td>17:00:00</td>\n",
       "      <td>SIM</td>\n",
       "      <td>SERIPA-7</td>\n",
       "      <td>FINALIZADA</td>\n",
       "      <td>A-105/CENIPA/2012</td>\n",
       "      <td>1.0</td>\n",
       "      <td>2012-09-20</td>\n",
       "      <td>4</td>\n",
       "      <td>1</td>\n",
       "      <td>NaN</td>\n",
       "      <td>2016-07-30</td>\n",
       "    </tr>\n",
       "    <tr>\n",
       "      <th>4</th>\n",
       "      <td>38855</td>\n",
       "      <td>ACIDENTE</td>\n",
       "      <td>PERDA DE CONTROLE EM VOO</td>\n",
       "      <td>ACEGUÁ</td>\n",
       "      <td>RS</td>\n",
       "      <td>BRASIL</td>\n",
       "      <td>****</td>\n",
       "      <td>2009-12-28</td>\n",
       "      <td>17:30:00</td>\n",
       "      <td>SIM</td>\n",
       "      <td>SERIPA-5</td>\n",
       "      <td>ATIVA</td>\n",
       "      <td>A DEFINIR</td>\n",
       "      <td>NaN</td>\n",
       "      <td>NaN</td>\n",
       "      <td>0</td>\n",
       "      <td>1</td>\n",
       "      <td>NaN</td>\n",
       "      <td>2016-07-30</td>\n",
       "    </tr>\n",
       "  </tbody>\n",
       "</table>\n",
       "</div>"
      ],
      "text/plain": [
       "   codigo_ocorrencia    classificacao                       tipo  localidade  \\\n",
       "0              47965         ACIDENTE      FALHA DO MOTOR EM VOO   ARIQUEMES   \n",
       "1              50313  INCIDENTE GRAVE             POUSO SEM TREM      CACOAL   \n",
       "2              34078         ACIDENTE  PERDA DE CONTROLE NO SOLO  CEREJEIRAS   \n",
       "3              44988         ACIDENTE                POUSO LONGO     AMAJARI   \n",
       "4              38855         ACIDENTE   PERDA DE CONTROLE EM VOO      ACEGUÁ   \n",
       "\n",
       "   uf    pais aerodromo dia_ocorrencia   horario sera_investigada  \\\n",
       "0  RO  BRASIL      SJOG     2013-05-05  11:00:00              ***   \n",
       "1  RO  BRASIL      SSKW     2013-11-25  12:32:00              SIM   \n",
       "2  RO  BRASIL      ****     2008-08-07  15:10:00              SIM   \n",
       "3  RR  BRASIL      ****     2011-08-11  17:00:00              SIM   \n",
       "4  RS  BRASIL      ****     2009-12-28  17:30:00              SIM   \n",
       "\n",
       "  comando_investigador status_investigacao     numero_relatorio  \\\n",
       "0             SERIPA-7                 NaN                  NaN   \n",
       "1             SERIPA-7          FINALIZADA   IG-209/CENIPA/2013   \n",
       "2             SERIPA-7          FINALIZADA  A - 517/CENIPA/2016   \n",
       "3             SERIPA-7          FINALIZADA    A-105/CENIPA/2012   \n",
       "4             SERIPA-5               ATIVA            A DEFINIR   \n",
       "\n",
       "   relatorio_publicado dia_publicacao  quantidade_recomendacoes  \\\n",
       "0                  NaN            NaN                         0   \n",
       "1                  1.0     2014-04-07                         0   \n",
       "2                  1.0     2016-07-07                         0   \n",
       "3                  1.0     2012-09-20                         4   \n",
       "4                  NaN            NaN                         0   \n",
       "\n",
       "   aeronaves_envolvidas  saida_pista dia_extracao  \n",
       "0                     1          NaN   2016-07-30  \n",
       "1                     1          NaN   2016-07-30  \n",
       "2                     1          1.0   2016-07-30  \n",
       "3                     1          NaN   2016-07-30  \n",
       "4                     1          NaN   2016-07-30  "
      ]
     },
     "execution_count": 3,
     "metadata": {},
     "output_type": "execute_result"
    }
   ],
   "source": [
    "df.head()"
   ]
  },
  {
   "cell_type": "code",
   "execution_count": 5,
   "metadata": {
    "collapsed": false
   },
   "outputs": [
    {
     "data": {
      "text/plain": [
       "codigo_ocorrencia             int64\n",
       "classificacao                object\n",
       "tipo                         object\n",
       "localidade                   object\n",
       "uf                           object\n",
       "pais                         object\n",
       "aerodromo                    object\n",
       "dia_ocorrencia               object\n",
       "horario                      object\n",
       "sera_investigada             object\n",
       "comando_investigador         object\n",
       "status_investigacao          object\n",
       "numero_relatorio             object\n",
       "relatorio_publicado         float64\n",
       "dia_publicacao               object\n",
       "quantidade_recomendacoes      int64\n",
       "aeronaves_envolvidas          int64\n",
       "saida_pista                 float64\n",
       "dia_extracao                 object\n",
       "dtype: object"
      ]
     },
     "execution_count": 5,
     "metadata": {},
     "output_type": "execute_result"
    }
   ],
   "source": [
    "# Verificar os tipos de cada coluna\n",
    "df.dtypes"
   ]
  },
  {
   "cell_type": "code",
   "execution_count": 7,
   "metadata": {
    "collapsed": false
   },
   "outputs": [
    {
     "data": {
      "text/plain": [
       "Index([u'codigo_ocorrencia', u'classificacao', u'tipo', u'localidade', u'uf',\n",
       "       u'pais', u'aerodromo', u'dia_ocorrencia', u'horario',\n",
       "       u'sera_investigada', u'comando_investigador', u'status_investigacao',\n",
       "       u'numero_relatorio', u'relatorio_publicado', u'dia_publicacao',\n",
       "       u'quantidade_recomendacoes', u'aeronaves_envolvidas', u'saida_pista',\n",
       "       u'dia_extracao'],\n",
       "      dtype='object')"
      ]
     },
     "execution_count": 7,
     "metadata": {},
     "output_type": "execute_result"
    }
   ],
   "source": [
    "#Nome das colunas\n",
    "df.columns"
   ]
  },
  {
   "cell_type": "code",
   "execution_count": 9,
   "metadata": {
    "collapsed": false
   },
   "outputs": [],
   "source": [
    "#Retirando colunas que não serão usadas\n",
    "df.drop(['aerodromo','horario','sera_investigada','comando_investigador',\n",
    "                 'relatorio_publicado','dia_publicacao','quantidade_recomendacoes',\n",
    "                 'aeronaves_envolvidas','saida_pista','dia_extracao', 'numero_relatorio'], axis = 1, inplace = True)"
   ]
  },
  {
   "cell_type": "code",
   "execution_count": 10,
   "metadata": {
    "collapsed": false
   },
   "outputs": [
    {
     "data": {
      "text/html": [
       "<div>\n",
       "<table border=\"1\" class=\"dataframe\">\n",
       "  <thead>\n",
       "    <tr style=\"text-align: right;\">\n",
       "      <th></th>\n",
       "      <th>codigo_ocorrencia</th>\n",
       "      <th>classificacao</th>\n",
       "      <th>tipo</th>\n",
       "      <th>localidade</th>\n",
       "      <th>uf</th>\n",
       "      <th>pais</th>\n",
       "      <th>dia_ocorrencia</th>\n",
       "      <th>status_investigacao</th>\n",
       "    </tr>\n",
       "  </thead>\n",
       "  <tbody>\n",
       "    <tr>\n",
       "      <th>0</th>\n",
       "      <td>47965</td>\n",
       "      <td>ACIDENTE</td>\n",
       "      <td>FALHA DO MOTOR EM VOO</td>\n",
       "      <td>ARIQUEMES</td>\n",
       "      <td>RO</td>\n",
       "      <td>BRASIL</td>\n",
       "      <td>2013-05-05</td>\n",
       "      <td>NaN</td>\n",
       "    </tr>\n",
       "    <tr>\n",
       "      <th>1</th>\n",
       "      <td>50313</td>\n",
       "      <td>INCIDENTE GRAVE</td>\n",
       "      <td>POUSO SEM TREM</td>\n",
       "      <td>CACOAL</td>\n",
       "      <td>RO</td>\n",
       "      <td>BRASIL</td>\n",
       "      <td>2013-11-25</td>\n",
       "      <td>FINALIZADA</td>\n",
       "    </tr>\n",
       "    <tr>\n",
       "      <th>2</th>\n",
       "      <td>34078</td>\n",
       "      <td>ACIDENTE</td>\n",
       "      <td>PERDA DE CONTROLE NO SOLO</td>\n",
       "      <td>CEREJEIRAS</td>\n",
       "      <td>RO</td>\n",
       "      <td>BRASIL</td>\n",
       "      <td>2008-08-07</td>\n",
       "      <td>FINALIZADA</td>\n",
       "    </tr>\n",
       "    <tr>\n",
       "      <th>3</th>\n",
       "      <td>44988</td>\n",
       "      <td>ACIDENTE</td>\n",
       "      <td>POUSO LONGO</td>\n",
       "      <td>AMAJARI</td>\n",
       "      <td>RR</td>\n",
       "      <td>BRASIL</td>\n",
       "      <td>2011-08-11</td>\n",
       "      <td>FINALIZADA</td>\n",
       "    </tr>\n",
       "    <tr>\n",
       "      <th>4</th>\n",
       "      <td>38855</td>\n",
       "      <td>ACIDENTE</td>\n",
       "      <td>PERDA DE CONTROLE EM VOO</td>\n",
       "      <td>ACEGUÁ</td>\n",
       "      <td>RS</td>\n",
       "      <td>BRASIL</td>\n",
       "      <td>2009-12-28</td>\n",
       "      <td>ATIVA</td>\n",
       "    </tr>\n",
       "  </tbody>\n",
       "</table>\n",
       "</div>"
      ],
      "text/plain": [
       "   codigo_ocorrencia    classificacao                       tipo  localidade  \\\n",
       "0              47965         ACIDENTE      FALHA DO MOTOR EM VOO   ARIQUEMES   \n",
       "1              50313  INCIDENTE GRAVE             POUSO SEM TREM      CACOAL   \n",
       "2              34078         ACIDENTE  PERDA DE CONTROLE NO SOLO  CEREJEIRAS   \n",
       "3              44988         ACIDENTE                POUSO LONGO     AMAJARI   \n",
       "4              38855         ACIDENTE   PERDA DE CONTROLE EM VOO      ACEGUÁ   \n",
       "\n",
       "   uf    pais dia_ocorrencia status_investigacao  \n",
       "0  RO  BRASIL     2013-05-05                 NaN  \n",
       "1  RO  BRASIL     2013-11-25          FINALIZADA  \n",
       "2  RO  BRASIL     2008-08-07          FINALIZADA  \n",
       "3  RR  BRASIL     2011-08-11          FINALIZADA  \n",
       "4  RS  BRASIL     2009-12-28               ATIVA  "
      ]
     },
     "execution_count": 10,
     "metadata": {},
     "output_type": "execute_result"
    }
   ],
   "source": [
    "df.head()"
   ]
  },
  {
   "cell_type": "code",
   "execution_count": 12,
   "metadata": {
    "collapsed": false
   },
   "outputs": [],
   "source": [
    "#Renomeando colunas do dataset ocorrencia.csv\n",
    "df.columns = ['CÓDIGO DA OCORRÊNCIA','CLASSIFICAÇÃO','TIPO DE OCORRÊNCIA','LOCALIDADE',\n",
    "                      'UF','PAÍS','DIA DA OCORRÊNCIA','STATUS DA INVESTIGAÇÃO']\n",
    "\n",
    "#Inserindo coluna para contagem\n",
    "df['CONTAGEM'] = 1"
   ]
  },
  {
   "cell_type": "code",
   "execution_count": 13,
   "metadata": {
    "collapsed": true
   },
   "outputs": [],
   "source": [
    "#Derrubando colunas onde o código da ocorrência é inválido\n",
    "df['CÓDIGO DA OCORRÊNCIA'].dropna(axis = 0, inplace = True)"
   ]
  },
  {
   "cell_type": "code",
   "execution_count": 17,
   "metadata": {
    "collapsed": false
   },
   "outputs": [
    {
     "data": {
      "text/html": [
       "<div>\n",
       "<table border=\"1\" class=\"dataframe\">\n",
       "  <thead>\n",
       "    <tr style=\"text-align: right;\">\n",
       "      <th></th>\n",
       "      <th>CÓDIGO DA OCORRÊNCIA</th>\n",
       "      <th>CLASSIFICAÇÃO</th>\n",
       "      <th>TIPO DE OCORRÊNCIA</th>\n",
       "      <th>LOCALIDADE</th>\n",
       "      <th>UF</th>\n",
       "      <th>PAÍS</th>\n",
       "      <th>DIA DA OCORRÊNCIA</th>\n",
       "      <th>STATUS DA INVESTIGAÇÃO</th>\n",
       "      <th>CONTAGEM</th>\n",
       "    </tr>\n",
       "  </thead>\n",
       "  <tbody>\n",
       "    <tr>\n",
       "      <th>0</th>\n",
       "      <td>47965</td>\n",
       "      <td>ACIDENTE</td>\n",
       "      <td>FALHA DO MOTOR EM VOO</td>\n",
       "      <td>ARIQUEMES</td>\n",
       "      <td>RO</td>\n",
       "      <td>BRASIL</td>\n",
       "      <td>2013-05-05</td>\n",
       "      <td>NaN</td>\n",
       "      <td>1</td>\n",
       "    </tr>\n",
       "    <tr>\n",
       "      <th>1</th>\n",
       "      <td>50313</td>\n",
       "      <td>INCIDENTE GRAVE</td>\n",
       "      <td>POUSO SEM TREM</td>\n",
       "      <td>CACOAL</td>\n",
       "      <td>RO</td>\n",
       "      <td>BRASIL</td>\n",
       "      <td>2013-11-25</td>\n",
       "      <td>FINALIZADA</td>\n",
       "      <td>1</td>\n",
       "    </tr>\n",
       "    <tr>\n",
       "      <th>2</th>\n",
       "      <td>34078</td>\n",
       "      <td>ACIDENTE</td>\n",
       "      <td>PERDA DE CONTROLE NO SOLO</td>\n",
       "      <td>CEREJEIRAS</td>\n",
       "      <td>RO</td>\n",
       "      <td>BRASIL</td>\n",
       "      <td>2008-08-07</td>\n",
       "      <td>FINALIZADA</td>\n",
       "      <td>1</td>\n",
       "    </tr>\n",
       "    <tr>\n",
       "      <th>3</th>\n",
       "      <td>44988</td>\n",
       "      <td>ACIDENTE</td>\n",
       "      <td>POUSO LONGO</td>\n",
       "      <td>AMAJARI</td>\n",
       "      <td>RR</td>\n",
       "      <td>BRASIL</td>\n",
       "      <td>2011-08-11</td>\n",
       "      <td>FINALIZADA</td>\n",
       "      <td>1</td>\n",
       "    </tr>\n",
       "    <tr>\n",
       "      <th>4</th>\n",
       "      <td>38855</td>\n",
       "      <td>ACIDENTE</td>\n",
       "      <td>PERDA DE CONTROLE EM VOO</td>\n",
       "      <td>ACEGUÁ</td>\n",
       "      <td>RS</td>\n",
       "      <td>BRASIL</td>\n",
       "      <td>2009-12-28</td>\n",
       "      <td>ATIVA</td>\n",
       "      <td>1</td>\n",
       "    </tr>\n",
       "  </tbody>\n",
       "</table>\n",
       "</div>"
      ],
      "text/plain": [
       "   CÓDIGO DA OCORRÊNCIA    CLASSIFICAÇÃO         TIPO DE OCORRÊNCIA  \\\n",
       "0                 47965         ACIDENTE      FALHA DO MOTOR EM VOO   \n",
       "1                 50313  INCIDENTE GRAVE             POUSO SEM TREM   \n",
       "2                 34078         ACIDENTE  PERDA DE CONTROLE NO SOLO   \n",
       "3                 44988         ACIDENTE                POUSO LONGO   \n",
       "4                 38855         ACIDENTE   PERDA DE CONTROLE EM VOO   \n",
       "\n",
       "   LOCALIDADE  UF    PAÍS DIA DA OCORRÊNCIA STATUS DA INVESTIGAÇÃO  CONTAGEM  \n",
       "0   ARIQUEMES  RO  BRASIL        2013-05-05                    NaN         1  \n",
       "1      CACOAL  RO  BRASIL        2013-11-25             FINALIZADA         1  \n",
       "2  CEREJEIRAS  RO  BRASIL        2008-08-07             FINALIZADA         1  \n",
       "3     AMAJARI  RR  BRASIL        2011-08-11             FINALIZADA         1  \n",
       "4      ACEGUÁ  RS  BRASIL        2009-12-28                  ATIVA         1  "
      ]
     },
     "execution_count": 17,
     "metadata": {},
     "output_type": "execute_result"
    }
   ],
   "source": [
    "df.head()"
   ]
  },
  {
   "cell_type": "code",
   "execution_count": 21,
   "metadata": {
    "collapsed": true
   },
   "outputs": [],
   "source": [
    "df.to_csv('ocorrencia_clean.csv', sep='\\t')"
   ]
  }
 ],
 "metadata": {
  "anaconda-cloud": {},
  "kernelspec": {
   "display_name": "Python [default]",
   "language": "python",
   "name": "python2"
  },
  "language_info": {
   "codemirror_mode": {
    "name": "ipython",
    "version": 2
   },
   "file_extension": ".py",
   "mimetype": "text/x-python",
   "name": "python",
   "nbconvert_exporter": "python",
   "pygments_lexer": "ipython2",
   "version": "2.7.13"
  }
 },
 "nbformat": 4,
 "nbformat_minor": 2
}
